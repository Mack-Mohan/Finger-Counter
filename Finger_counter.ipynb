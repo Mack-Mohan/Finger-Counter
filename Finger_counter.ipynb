{
 "cells": [
  {
   "cell_type": "code",
   "execution_count": 1,
   "metadata": {},
   "outputs": [],
   "source": [
    "import cv2\n",
    "import numpy as np\n",
    "from sklearn.metrics import pairwise"
   ]
  },
  {
   "cell_type": "code",
   "execution_count": 2,
   "metadata": {},
   "outputs": [],
   "source": [
    "#Global variables\n",
    "\n",
    "background = None\n",
    "\n",
    "#ROI\n",
    "\n",
    "roi_top = 50\n",
    "roi_bottom = 300\n",
    "roi_right = 250\n",
    "roi_left = 600\n",
    "\n",
    "\n",
    "#Alpha for accumulating images\n",
    "\n",
    "alpha = 0.5"
   ]
  },
  {
   "cell_type": "code",
   "execution_count": 3,
   "metadata": {},
   "outputs": [],
   "source": [
    "#average background value\n",
    "\n",
    "def running_bg(frame) :\n",
    "    global background, alpha\n",
    "    if background is None:\n",
    "        background = frame.copy().astype('float')\n",
    "        \n",
    "    cv2.accumulateWeighted(frame, background, alpha)"
   ]
  },
  {
   "cell_type": "code",
   "execution_count": 4,
   "metadata": {},
   "outputs": [],
   "source": [
    "#segmenting the hand\n",
    "def segmenting(frame) :\n",
    "    diff = cv2.absdiff(background.astype('uint8'), frame)\n",
    "    _, thresh = cv2.threshold(diff, 25, 255, cv2.THRESH_BINARY)\n",
    "    image, contours, hierarchy = cv2.findContours(thresh.copy(), cv2.RETR_EXTERNAL, cv2.CHAIN_APPROX_SIMPLE)\n",
    "    if len(contours) == 0:\n",
    "        return None\n",
    "    else:\n",
    "        hand = max(contours, key = cv2.contourArea)\n",
    "        return (hand, thresh)"
   ]
  },
  {
   "cell_type": "code",
   "execution_count": 5,
   "metadata": {},
   "outputs": [],
   "source": [
    "#Counting the fingers\n",
    "\n",
    "def fingers(hand, thresh):\n",
    "    conv_hull = cv2.convexHull(hand)\n",
    "    \n",
    "    count = 0\n",
    "    top    = tuple(conv_hull[conv_hull[:, :, 1].argmin()][0])\n",
    "    bottom = tuple(conv_hull[conv_hull[:, :, 1].argmax()][0])\n",
    "    left   = tuple(conv_hull[conv_hull[:, :, 0].argmin()][0])\n",
    "    right  = tuple(conv_hull[conv_hull[:, :, 0].argmax()][0])\n",
    "    \n",
    "    #center\n",
    "    cx = (left[0] + right[0]) //2\n",
    "    cy = (top[1] + bottom[1]) //2\n",
    "    \n",
    "    distance = pairwise.euclidean_distances([(cx,cy)], Y = [left, right, top, bottom])[0]\n",
    "    max_d = distance.max()\n",
    "    \n",
    "    radius = int(0.8*max_d)\n",
    "    circumference = 2*np.pi*radius\n",
    "    \n",
    "    circular = np.zeros(thresh.shape[:2], dtype=\"uint8\")\n",
    "    \n",
    "    cv2.circle(circular, (cx,cy), radius, 255, 10)\n",
    "    cv2.imshow('frame1',circular)\n",
    "    circular = cv2.bitwise_and(thresh, thresh, mask = circular)\n",
    "    cv2.imshow('frame2',circular)\n",
    "    \n",
    "    _, contour, _ = cv2.findContours(circular.copy(), cv2.RETR_EXTERNAL, cv2.CHAIN_APPROX_NONE)\n",
    "    \n",
    "    for i in contour:\n",
    "        (x, y, w, h) = cv2.boundingRect(i)\n",
    "        \n",
    "        if ((cy + cy*0.25) > (y + h)) and ((circumference*0.25) > i.shape[0]):\n",
    "            count += 1\n",
    "            \n",
    "    return count"
   ]
  },
  {
   "cell_type": "code",
   "execution_count": 6,
   "metadata": {},
   "outputs": [],
   "source": [
    "#Main Function\n",
    "cap = cv2.VideoCapture(0)\n",
    "n_frame = 0\n",
    "\n",
    "while True:\n",
    "    \n",
    "    \n",
    "    \n",
    "    _, frame = cap.read()\n",
    "    \n",
    "    frame = cv2.flip(frame, 1)\n",
    "    \n",
    "    frame1 = frame.copy()\n",
    "    \n",
    "    roi = frame[roi_top:roi_bottom, roi_right:roi_left]\n",
    "    \n",
    "    gray = cv2.cvtColor(roi, cv2.COLOR_BGR2GRAY)\n",
    "    gray = cv2.GaussianBlur(gray, (7,7), 0)\n",
    "    \n",
    "    if n_frame < 60:\n",
    "        running_bg(gray)\n",
    "        if n_frame <= 59:\n",
    "            cv2.putText(frame1, 'Wait', (400,400), cv2.FONT_HERSHEY_COMPLEX, 1, (0,0,255), 7)\n",
    "            cv2.imshow('main_frame', frame1)\n",
    "    \n",
    "    else:\n",
    "        hand = segmenting(gray)\n",
    "        if hand is not None:\n",
    "            segment, thresh = hand\n",
    "            \n",
    "            cv2.drawContours(frame1, [segment + (roi_right, roi_top)], -1, (255,0,0), 1)\n",
    "            \n",
    "            count = fingers(segment, thresh)\n",
    "            \n",
    "            cv2.putText(frame1, str(count), (70, 45), cv2.FONT_HERSHEY_SIMPLEX, 1, (0,0,255), 2)\n",
    "            \n",
    "            cv2.imshow(\"Thesholded\", thresh)\n",
    "                        \n",
    "    cv2.rectangle(frame1, (roi_left, roi_top), (roi_right, roi_bottom), (0,0,255), 5)\n",
    "        \n",
    "    n_frame +=1\n",
    "        \n",
    "    cv2.imshow('main_frame', frame1)\n",
    "        \n",
    "    k = cv2.waitKey(20)\n",
    "    if k==27:\n",
    "        break\n",
    "            \n",
    "cap.release()\n",
    "cv2.destroyAllWindows()"
   ]
  },
  {
   "cell_type": "code",
   "execution_count": null,
   "metadata": {},
   "outputs": [],
   "source": []
  },
  {
   "cell_type": "code",
   "execution_count": null,
   "metadata": {},
   "outputs": [],
   "source": []
  },
  {
   "cell_type": "code",
   "execution_count": null,
   "metadata": {},
   "outputs": [],
   "source": []
  },
  {
   "cell_type": "code",
   "execution_count": null,
   "metadata": {},
   "outputs": [],
   "source": []
  }
 ],
 "metadata": {
  "kernelspec": {
   "display_name": "Python 3",
   "language": "python",
   "name": "python3"
  },
  "language_info": {
   "codemirror_mode": {
    "name": "ipython",
    "version": 3
   },
   "file_extension": ".py",
   "mimetype": "text/x-python",
   "name": "python",
   "nbconvert_exporter": "python",
   "pygments_lexer": "ipython3",
   "version": "3.6.6"
  }
 },
 "nbformat": 4,
 "nbformat_minor": 5
}
